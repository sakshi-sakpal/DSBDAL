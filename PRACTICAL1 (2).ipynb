{
 "cells": [
  {
   "cell_type": "code",
   "execution_count": 1,
   "id": "0bab8f9b",
   "metadata": {},
   "outputs": [
    {
     "name": "stdout",
     "output_type": "stream",
     "text": [
      "          Location1  Location2  Location3  Location4\n",
      "Product1        100        200        150        300\n",
      "Product2         50         60         40         80\n"
     ]
    }
   ],
   "source": [
    "import pandas as pd\n",
    "#dataframe\n",
    "data={\n",
    "    \"Location1\": [100, 50, 300, 200, 80],\n",
    "    \"Location2\": [200, 60, 400, 250, 90],\n",
    "    \"Location3\": [150, 40, 350, 220, 70],\n",
    "    \"Location4\": [300, 80, 500, 270, 100]\n",
    "}\n",
    "data = pd.DataFrame(data, index=[\"Product1\", \"Product2\", \"Product3\", \"Product4\", \"Product5\"])\n",
    "#1 display the first two rows\n",
    "print(data.head(2))"
   ]
  },
  {
   "cell_type": "code",
   "execution_count": 3,
   "id": "42bc5f68",
   "metadata": {},
   "outputs": [
    {
     "name": "stdout",
     "output_type": "stream",
     "text": [
      "\n",
      " 5,4\n"
     ]
    }
   ],
   "source": [
    "#2 Get the total number of rows and columns\n",
    "rows, cols = data.shape\n",
    "print(f\"\\n {rows},{cols}\")"
   ]
  },
  {
   "cell_type": "code",
   "execution_count": 4,
   "id": "7b9abcb1",
   "metadata": {},
   "outputs": [
    {
     "name": "stdout",
     "output_type": "stream",
     "text": [
      "\n",
      " ['Location1', 'Location2', 'Location3', 'Location4']\n",
      " ['Product1', 'Product2', 'Product3', 'Product4', 'Product5']\n"
     ]
    }
   ],
   "source": [
    "# 3: List the column names and row indices\n",
    "print(f\"\\n {data.columns.tolist()}\")\n",
    "print(f\"\\n{data.index.tolist()}\")"
   ]
  },
  {
   "cell_type": "code",
   "execution_count": 5,
   "id": "10101738",
   "metadata": {},
   "outputs": [
    {
     "name": "stdout",
     "output_type": "stream",
     "text": [
      "\n",
      "Location1    int64\n",
      "Location2    int64\n",
      "Location3    int64\n",
      "Location4    int64\n",
      "dtype: object\n"
     ]
    }
   ],
   "source": [
    "#  4: Display the data type of each column\n",
    "print(f\"\\n{data.dtypes}\")"
   ]
  },
  {
   "cell_type": "code",
   "execution_count": 6,
   "id": "1212e4de",
   "metadata": {},
   "outputs": [
    {
     "name": "stdout",
     "output_type": "stream",
     "text": [
      "\n",
      "Location1    0\n",
      "Location2    0\n",
      "Location3    0\n",
      "Location4    0\n",
      "dtype: int64\n"
     ]
    }
   ],
   "source": [
    "# 5: Check if there are any missing values\n",
    "print(f\"\\n{data.isnull().sum()}\")"
   ]
  },
  {
   "cell_type": "code",
   "execution_count": 7,
   "id": "32c39756",
   "metadata": {},
   "outputs": [
    {
     "name": "stdout",
     "output_type": "stream",
     "text": [
      "\n",
      "Location1    300\n",
      "Location2    400\n",
      "Location3    350\n",
      "Location4    500\n",
      "Name: Product3, dtype: int64\n"
     ]
    }
   ],
   "source": [
    "#6: Retrieve the stock levels for \"Product3\" across all locations\n",
    "product3_stock = data.loc[\"Product3\"]\n",
    "print(f\"\\n{product3_stock}\")"
   ]
  },
  {
   "cell_type": "code",
   "execution_count": 9,
   "id": "339f4be5",
   "metadata": {},
   "outputs": [
    {
     "name": "stdout",
     "output_type": "stream",
     "text": [
      "\n",
      "Product1    200\n",
      "Product2     60\n",
      "Product3    400\n",
      "Product4    250\n",
      "Product5     90\n",
      "Name: Location2, dtype: int64\n"
     ]
    }
   ],
   "source": [
    "# Task 7: Extract the stock levels for \"Location2\" across all products\n",
    "location2_stock = data[\"Location2\"]\n",
    "print(f\"\\n{location2_stock}\")"
   ]
  }
 ],
 "metadata": {
  "kernelspec": {
   "display_name": "Python 3 (ipykernel)",
   "language": "python",
   "name": "python3"
  },
  "language_info": {
   "codemirror_mode": {
    "name": "ipython",
    "version": 3
   },
   "file_extension": ".py",
   "mimetype": "text/x-python",
   "name": "python",
   "nbconvert_exporter": "python",
   "pygments_lexer": "ipython3",
   "version": "3.11.4"
  }
 },
 "nbformat": 4,
 "nbformat_minor": 5
}
