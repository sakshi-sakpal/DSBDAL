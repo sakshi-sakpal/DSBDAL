{
 "cells": [
  {
   "cell_type": "code",
   "execution_count": 2,
   "id": "7a2f8476",
   "metadata": {},
   "outputs": [
    {
     "name": "stderr",
     "output_type": "stream",
     "text": [
      "[nltk_data] Downloading package punkt to\n",
      "[nltk_data]     C:\\Users\\Welcome\\AppData\\Roaming\\nltk_data...\n",
      "[nltk_data]   Package punkt is already up-to-date!\n",
      "[nltk_data] Downloading package stopwords to\n",
      "[nltk_data]     C:\\Users\\Welcome\\AppData\\Roaming\\nltk_data...\n",
      "[nltk_data]   Package stopwords is already up-to-date!\n",
      "[nltk_data] Downloading package wordnet to\n",
      "[nltk_data]     C:\\Users\\Welcome\\AppData\\Roaming\\nltk_data...\n",
      "[nltk_data]   Package wordnet is already up-to-date!\n",
      "[nltk_data] Downloading package averaged_perceptron_tagger to\n",
      "[nltk_data]     C:\\Users\\Welcome\\AppData\\Roaming\\nltk_data...\n",
      "[nltk_data]   Package averaged_perceptron_tagger is already up-to-\n",
      "[nltk_data]       date!\n"
     ]
    },
    {
     "data": {
      "text/plain": [
       "True"
      ]
     },
     "execution_count": 2,
     "metadata": {},
     "output_type": "execute_result"
    }
   ],
   "source": [
    "import nltk\n",
    "nltk.download('punkt')\n",
    "nltk.download('stopwords')\n",
    "nltk.download('wordnet')\n",
    "nltk.download('averaged_perceptron_tagger')"
   ]
  },
  {
   "cell_type": "code",
   "execution_count": 4,
   "id": "82671f21",
   "metadata": {},
   "outputs": [],
   "source": [
    "text= \"Tokenization is the first step in text analytics. The process of breaking down a text paragraph into smaller chunkssuch as words or sentences is called Tokenization.\""
   ]
  },
  {
   "cell_type": "code",
   "execution_count": 5,
   "id": "410bf31c",
   "metadata": {},
   "outputs": [
    {
     "name": "stdout",
     "output_type": "stream",
     "text": [
      "['Tokenization is the first step in text analytics.', 'The process of breaking down a text paragraph into smaller chunkssuch as words or sentences is called Tokenization.']\n",
      "['Tokenization', 'is', 'the', 'first', 'step', 'in', 'text', 'analytics', '.', 'The', 'process', 'of', 'breaking', 'down', 'a', 'text', 'paragraph', 'into', 'smaller', 'chunkssuch', 'as', 'words', 'or', 'sentences', 'is', 'called', 'Tokenization', '.']\n"
     ]
    }
   ],
   "source": [
    "from nltk.tokenize import sent_tokenize\n",
    "tokenized_text= sent_tokenize(text)\n",
    "print(tokenized_text)\n",
    "#Word Tokenization\n",
    "from nltk.tokenize import word_tokenize\n",
    "tokenized_word=word_tokenize(text)\n",
    "print(tokenized_word)\n"
   ]
  },
  {
   "cell_type": "code",
   "execution_count": 12,
   "id": "06a00bf9",
   "metadata": {},
   "outputs": [
    {
     "name": "stdout",
     "output_type": "stream",
     "text": [
      "{'been', 'here', 'do', 'so', \"hasn't\", 'there', 'me', 've', 'further', 'ma', 'was', 'yourself', 'any', 'haven', 'she', \"isn't\", 'these', \"they'd\", \"it'll\", 'will', \"it'd\", 'by', 'itself', \"shouldn't\", 'such', \"should've\", 'during', 'hadn', \"he'd\", 's', \"you're\", 'now', 'have', 'again', 'we', 'ours', 'myself', 'didn', 'over', 'of', \"they'll\", 'o', 'he', 'its', 'and', 'below', \"that'll\", 'after', 'once', \"we've\", \"haven't\", 'each', 'whom', 'or', 'having', 'both', 'but', 'couldn', 'them', 'doesn', 'for', \"we'll\", 'ourselves', \"we're\", 'to', 'too', 're', 'other', 'nor', 'they', 'our', 'needn', \"mightn't\", 'this', 'aren', 'theirs', 'yourselves', 'weren', 'who', 'should', \"you'd\", 'just', 'it', 'll', 'up', 'how', 'when', 'being', 'at', 'which', 'his', \"i've\", 'doing', 'on', 'off', 'against', 'all', 'because', \"i'd\", 'm', \"won't\", 'shouldn', 'themselves', 'i', 'out', 'my', 'about', 'your', 'has', 'himself', 'than', 'their', \"weren't\", 'an', \"shan't\", 'in', 'the', 'those', \"wasn't\", 'ain', \"hadn't\", 'are', \"didn't\", 'yours', 'am', 'shan', 't', 'had', 'him', 'you', \"needn't\", 'did', 'hasn', 'won', 'be', 'mightn', 'what', 'a', \"mustn't\", 'wouldn', \"she'll\", \"doesn't\", 'into', \"i'll\", \"you've\", \"she'd\", 'that', \"we'd\", 'until', 'does', \"he'll\", 'then', 'her', 'hers', 'is', \"it's\", 'where', 'between', 'isn', 'same', 'few', 'can', \"he's\", 'as', \"aren't\", 'under', 'wasn', 'don', 'mustn', 'not', \"they're\", 'd', \"she's\", 'from', 'before', \"couldn't\", 'very', \"i'm\", \"wouldn't\", 'were', \"you'll\", 'herself', 'above', 'some', 'if', \"they've\", 'with', 'only', 'no', 'why', 'through', \"don't\", 'most', 'more', 'own', 'while', 'down', 'y'}\n",
      "Tokenized Sentence: ['how', 'to', 'remove', 'stop', 'words', 'with', 'nltk', 'library', 'in', 'python']\n",
      "Filterd Sentence: ['remove', 'stop', 'words', 'nltk', 'library', 'python']\n"
     ]
    }
   ],
   "source": [
    "from nltk.corpus import stopwords\n",
    "import re\n",
    "\n",
    "stop_words=set(stopwords.words(\"english\"))\n",
    "print(stop_words)\n",
    "text= \"How to remove stop words with NLTK library in Python?\"\n",
    "text= re.sub('[^a-zA-Z]', ' ',text)\n",
    "tokens = word_tokenize(text.lower())\n",
    "filtered_text = [w for w in tokens if w not in stop_words]\n",
    "\n",
    "print(\"Tokenized Sentence:\",tokens)\n",
    "print(\"Filterd Sentence:\",filtered_text)\n"
   ]
  },
  {
   "cell_type": "code",
   "execution_count": 13,
   "id": "0394b9fd",
   "metadata": {},
   "outputs": [
    {
     "name": "stdout",
     "output_type": "stream",
     "text": [
      "wait\n",
      "wait\n",
      "wait\n",
      "wait\n"
     ]
    }
   ],
   "source": [
    "from nltk.stem import PorterStemmer\n",
    "\n",
    "e_words = [\"wait\", \"waiting\", \"waited\", \"waits\"]\n",
    "ps = PorterStemmer()\n",
    "\n",
    "for w in e_words:\n",
    "    rootWord = ps.stem(w)\n",
    "    print(rootWord)"
   ]
  },
  {
   "cell_type": "code",
   "execution_count": 14,
   "id": "f3eca126",
   "metadata": {},
   "outputs": [
    {
     "name": "stdout",
     "output_type": "stream",
     "text": [
      "Lemma for studies: study\n",
      "Lemma for studying: studying\n",
      "Lemma for cries: cry\n",
      "Lemma for cry: cry\n"
     ]
    }
   ],
   "source": [
    "from nltk.stem import WordNetLemmatizer\n",
    "\n",
    "wordnet_lemmatizer = WordNetLemmatizer()\n",
    "text = \"studies studying cries cry\"\n",
    "tokenization = nltk.word_tokenize(text)\n",
    "\n",
    "for w in tokenization:\n",
    "    print(\"Lemma for {}: {}\".format(w, wordnet_lemmatizer.lemmatize(w)))"
   ]
  },
  {
   "cell_type": "code",
   "execution_count": 15,
   "id": "d6ae1bb6",
   "metadata": {},
   "outputs": [
    {
     "name": "stdout",
     "output_type": "stream",
     "text": [
      "[('The', 'DT')]\n",
      "[('pink', 'NN')]\n",
      "[('sweater', 'NN')]\n",
      "[('fit', 'NN')]\n",
      "[('her', 'PRP$')]\n",
      "[('perfectly', 'RB')]\n"
     ]
    }
   ],
   "source": [
    "from nltk.tokenize import word_tokenize\n",
    "data = \"The pink sweater fit her perfectly\"\n",
    "words = word_tokenize(data)\n",
    "\n",
    "for word in words:\n",
    "    print(nltk.pos_tag([word]))\n"
   ]
  },
  {
   "cell_type": "code",
   "execution_count": 16,
   "id": "e97e1814",
   "metadata": {},
   "outputs": [],
   "source": [
    "import pandas as pd\n",
    "from sklearn.feature_extraction.text import TfidfVectorizer\n",
    "import math\n"
   ]
  },
  {
   "cell_type": "code",
   "execution_count": 17,
   "id": "a40f52a0",
   "metadata": {},
   "outputs": [],
   "source": [
    "documentA = 'Jupiter is the largest Planet'\n",
    "documentB = 'Mars is the fourth planet from the Sun'\n"
   ]
  },
  {
   "cell_type": "code",
   "execution_count": 19,
   "id": "a747522d",
   "metadata": {},
   "outputs": [],
   "source": [
    "bagOfWordsA = documentA.split(' ')\n",
    "bagOfWordsB = documentB.split(' ')\n"
   ]
  },
  {
   "cell_type": "code",
   "execution_count": 20,
   "id": "a5551e26",
   "metadata": {},
   "outputs": [
    {
     "data": {
      "text/plain": [
       "['Jupiter', 'is', 'the', 'largest', 'Planet']"
      ]
     },
     "execution_count": 20,
     "metadata": {},
     "output_type": "execute_result"
    }
   ],
   "source": [
    "bagOfWordsA"
   ]
  },
  {
   "cell_type": "code",
   "execution_count": 21,
   "id": "960fe921",
   "metadata": {},
   "outputs": [
    {
     "data": {
      "text/plain": [
       "['Mars', 'is', 'the', 'fourth', 'planet', 'from', 'the', 'Sun']"
      ]
     },
     "execution_count": 21,
     "metadata": {},
     "output_type": "execute_result"
    }
   ],
   "source": [
    "bagOfWordsB"
   ]
  },
  {
   "cell_type": "code",
   "execution_count": 22,
   "id": "1cceac04",
   "metadata": {},
   "outputs": [
    {
     "data": {
      "text/plain": [
       "{'Jupiter',\n",
       " 'Mars',\n",
       " 'Planet',\n",
       " 'Sun',\n",
       " 'fourth',\n",
       " 'from',\n",
       " 'is',\n",
       " 'largest',\n",
       " 'planet',\n",
       " 'the'}"
      ]
     },
     "execution_count": 22,
     "metadata": {},
     "output_type": "execute_result"
    }
   ],
   "source": [
    "uniqueWords = set(bagOfWordsA).union(set(bagOfWordsB))\n",
    "uniqueWords"
   ]
  },
  {
   "cell_type": "code",
   "execution_count": 23,
   "id": "d9b4e3bf",
   "metadata": {},
   "outputs": [],
   "source": [
    "numOfWordsA = dict.fromkeys(uniqueWords, 0)\n",
    "for word in bagOfWordsA:\n",
    "    numOfWordsA[word] += 1\n",
    "\n",
    "numOfWordsB = dict.fromkeys(uniqueWords, 0)\n",
    "for word in bagOfWordsB:\n",
    "    numOfWordsB[word] += 1\n"
   ]
  },
  {
   "cell_type": "code",
   "execution_count": 24,
   "id": "9c92f93c",
   "metadata": {},
   "outputs": [
    {
     "data": {
      "text/plain": [
       "{'the': 1,\n",
       " 'Planet': 1,\n",
       " 'Mars': 0,\n",
       " 'Jupiter': 1,\n",
       " 'Sun': 0,\n",
       " 'planet': 0,\n",
       " 'largest': 1,\n",
       " 'fourth': 0,\n",
       " 'from': 0,\n",
       " 'is': 1}"
      ]
     },
     "execution_count": 24,
     "metadata": {},
     "output_type": "execute_result"
    }
   ],
   "source": [
    "numOfWordsA"
   ]
  },
  {
   "cell_type": "code",
   "execution_count": 25,
   "id": "72ec1954",
   "metadata": {},
   "outputs": [
    {
     "data": {
      "text/plain": [
       "{'the': 2,\n",
       " 'Planet': 0,\n",
       " 'Mars': 1,\n",
       " 'Jupiter': 0,\n",
       " 'Sun': 1,\n",
       " 'planet': 1,\n",
       " 'largest': 0,\n",
       " 'fourth': 1,\n",
       " 'from': 1,\n",
       " 'is': 1}"
      ]
     },
     "execution_count": 25,
     "metadata": {},
     "output_type": "execute_result"
    }
   ],
   "source": [
    "numOfWordsB"
   ]
  },
  {
   "cell_type": "code",
   "execution_count": 26,
   "id": "39e09c68",
   "metadata": {},
   "outputs": [],
   "source": [
    "def computeTF(wordDict, bagOfWords):\n",
    "    tfDict = {}\n",
    "    bagOfWordsCount = len(bagOfWords)\n",
    "    for word, count in wordDict.items():\n",
    "        tfDict[word] = count / float(bagOfWordsCount)\n",
    "    return tfDict\n",
    "\n",
    "tfA = computeTF(numOfWordsA, bagOfWordsA)\n",
    "tfB = computeTF(numOfWordsB, bagOfWordsB)"
   ]
  },
  {
   "cell_type": "code",
   "execution_count": 27,
   "id": "898ca7a2",
   "metadata": {},
   "outputs": [
    {
     "data": {
      "text/plain": [
       "{'the': 0.2,\n",
       " 'Planet': 0.2,\n",
       " 'Mars': 0.0,\n",
       " 'Jupiter': 0.2,\n",
       " 'Sun': 0.0,\n",
       " 'planet': 0.0,\n",
       " 'largest': 0.2,\n",
       " 'fourth': 0.0,\n",
       " 'from': 0.0,\n",
       " 'is': 0.2}"
      ]
     },
     "execution_count": 27,
     "metadata": {},
     "output_type": "execute_result"
    }
   ],
   "source": [
    "tfA "
   ]
  },
  {
   "cell_type": "code",
   "execution_count": 28,
   "id": "e2d14349",
   "metadata": {},
   "outputs": [
    {
     "data": {
      "text/plain": [
       "{'the': 0.25,\n",
       " 'Planet': 0.0,\n",
       " 'Mars': 0.125,\n",
       " 'Jupiter': 0.0,\n",
       " 'Sun': 0.125,\n",
       " 'planet': 0.125,\n",
       " 'largest': 0.0,\n",
       " 'fourth': 0.125,\n",
       " 'from': 0.125,\n",
       " 'is': 0.125}"
      ]
     },
     "execution_count": 28,
     "metadata": {},
     "output_type": "execute_result"
    }
   ],
   "source": [
    "tfB "
   ]
  },
  {
   "cell_type": "code",
   "execution_count": 29,
   "id": "9c8c9fe6",
   "metadata": {},
   "outputs": [],
   "source": [
    "def computeIDF(documents):\n",
    "    N = len(documents)\n",
    "    idfDict = dict.fromkeys(documents[0].keys(), 0)\n",
    "    for document in documents:\n",
    "        for word, val in document.items():\n",
    "            if val > 0:\n",
    "                idfDict[word] += 1\n",
    "    for word, val in idfDict.items():\n",
    "        idfDict[word] = math.log(N / float(val))\n",
    "    return idfDict\n",
    "\n",
    "idfs = computeIDF([numOfWordsA, numOfWordsB])\n"
   ]
  },
  {
   "cell_type": "code",
   "execution_count": 30,
   "id": "d03c1d04",
   "metadata": {},
   "outputs": [
    {
     "data": {
      "text/plain": [
       "{'the': 0.0,\n",
       " 'Planet': 0.6931471805599453,\n",
       " 'Mars': 0.6931471805599453,\n",
       " 'Jupiter': 0.6931471805599453,\n",
       " 'Sun': 0.6931471805599453,\n",
       " 'planet': 0.6931471805599453,\n",
       " 'largest': 0.6931471805599453,\n",
       " 'fourth': 0.6931471805599453,\n",
       " 'from': 0.6931471805599453,\n",
       " 'is': 0.0}"
      ]
     },
     "execution_count": 30,
     "metadata": {},
     "output_type": "execute_result"
    }
   ],
   "source": [
    "idfs "
   ]
  },
  {
   "cell_type": "code",
   "execution_count": 31,
   "id": "72f40612",
   "metadata": {},
   "outputs": [
    {
     "name": "stdout",
     "output_type": "stream",
     "text": [
      "   the    Planet      Mars   Jupiter       Sun    planet   largest    fourth  \\\n",
      "0  0.0  0.138629  0.000000  0.138629  0.000000  0.000000  0.138629  0.000000   \n",
      "1  0.0  0.000000  0.086643  0.000000  0.086643  0.086643  0.000000  0.086643   \n",
      "\n",
      "       from   is  \n",
      "0  0.000000  0.0  \n",
      "1  0.086643  0.0  \n"
     ]
    }
   ],
   "source": [
    "def computeTFIDF(tfBagOfWords, idfs):\n",
    "    tfidf = {}\n",
    "    for word, val in tfBagOfWords.items():\n",
    "        tfidf[word] = val * idfs[word]\n",
    "    return tfidf\n",
    "\n",
    "tfidfA = computeTFIDF(tfA, idfs)\n",
    "tfidfB = computeTFIDF(tfB, idfs)\n",
    "\n",
    "# Create a DataFrame for visualization\n",
    "df = pd.DataFrame([tfidfA, tfidfB])\n",
    "print(df)"
   ]
  },
  {
   "cell_type": "code",
   "execution_count": null,
   "id": "75754356",
   "metadata": {},
   "outputs": [],
   "source": []
  }
 ],
 "metadata": {
  "kernelspec": {
   "display_name": "Python 3 (ipykernel)",
   "language": "python",
   "name": "python3"
  },
  "language_info": {
   "codemirror_mode": {
    "name": "ipython",
    "version": 3
   },
   "file_extension": ".py",
   "mimetype": "text/x-python",
   "name": "python",
   "nbconvert_exporter": "python",
   "pygments_lexer": "ipython3",
   "version": "3.11.4"
  }
 },
 "nbformat": 4,
 "nbformat_minor": 5
}
